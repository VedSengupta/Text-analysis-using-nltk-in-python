{
  "nbformat": 4,
  "nbformat_minor": 0,
  "metadata": {
    "colab": {
      "name": "Untitled0.ipynb",
      "version": "0.3.2",
      "provenance": [],
      "include_colab_link": true
    },
    "kernelspec": {
      "name": "python3",
      "display_name": "Python 3"
    }
  },
  "cells": [
    {
      "cell_type": "markdown",
      "metadata": {
        "id": "view-in-github",
        "colab_type": "text"
      },
      "source": [
        "[View in Colaboratory](https://colab.research.google.com/github/VedSengupta/Text-analysis-using-nltk-in-python/blob/master/VED.ipynb)"
      ]
    },
    {
      "metadata": {
        "id": "spbyIRoJKBEQ",
        "colab_type": "code",
        "colab": {}
      },
      "cell_type": "code",
      "source": [
        ""
      ],
      "execution_count": 0,
      "outputs": []
    },
    {
      "metadata": {
        "id": "LtpqXHYyKBmK",
        "colab_type": "code",
        "colab": {
          "base_uri": "https://localhost:8080/",
          "height": 170
        },
        "outputId": "574a08bc-b89d-4a7e-e643-07ec00b28ccc"
      },
      "cell_type": "code",
      "source": [
        "for i in range(0,9):\n",
        "  print(\"VED\")"
      ],
      "execution_count": 1,
      "outputs": [
        {
          "output_type": "stream",
          "text": [
            "VED\n",
            "VED\n",
            "VED\n",
            "VED\n",
            "VED\n",
            "VED\n",
            "VED\n",
            "VED\n",
            "VED\n"
          ],
          "name": "stdout"
        }
      ]
    }
  ]
}